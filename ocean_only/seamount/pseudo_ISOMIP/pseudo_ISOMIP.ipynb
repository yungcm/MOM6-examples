{
 "cells": [
  {
   "cell_type": "code",
   "execution_count": 1,
   "id": "020b5d5c",
   "metadata": {},
   "outputs": [],
   "source": [
    "import matplotlib.pyplot as plt\n",
    "#from matplotlib import cm\n",
    "#from matplotlib.ticker import LinearLocator\n",
    "import numpy as np\n",
    "import xarray as xr\n",
    "import netCDF4 as nc\n",
    "import math\n",
    "import cftime\n",
    "import numpy.polynomial.polynomial as pol\n",
    "\n",
    "di = '/home/claire/Github-forked/MOM6-examples/ocean_only/seamount/pseudo_ISOMIP'\n",
    "\n",
    "NHALO = 4\n",
    "IC_FILE = 'MOM_IC.nc'\n",
    "SHELF_IC_FILE = 'MOM_Shelf_IC.nc'\n",
    "PROG_FILE = 'prog.nc'\n",
    "ICE_SHELF_FILE = '/INPUT/shelfX.nc'\n",
    "THICKNESS_FILE = '/INPUT/thickness.nc'"
   ]
  },
  {
   "cell_type": "code",
   "execution_count": 2,
   "id": "06b31e57",
   "metadata": {
    "code_folding": [
     2
    ]
   },
   "outputs": [],
   "source": [
    "### new thickness file for THICKNESS_CONFIG=\"thickness_file\"\n",
    "### (depends on MOM6 output in IC_FILE, ie. use after a run)\n",
    "def make_thickness_file(filename):\n",
    "    \n",
    "    ic = xr.open_dataset(di + '/' + IC_FILE)\n",
    "    _, nz, ny, nx = ic.h.data.shape\n",
    "\n",
    "    new_thick = nc.Dataset(filename, \"w\", format=\"NETCDF4\")\n",
    "    new_thick.createDimension(\"nz\", nz)\n",
    "    new_thick.createDimension(\"ny\", ny)\n",
    "    new_thick.createDimension(\"nx\", nx)\n",
    "    new_thick.createVariable(\"h\",\"f8\",(\"nz\",\"ny\",\"nx\"))\n",
    "\n",
    "    new_thick[\"h\"][:,:,:] = ic.h.data\n",
    "    new_thick.close()"
   ]
  },
  {
   "cell_type": "code",
   "execution_count": 3,
   "id": "7c0c85ab",
   "metadata": {
    "code_folding": [
     2
    ]
   },
   "outputs": [],
   "source": [
    "### 3D depiction of topography and ice shelf\n",
    "### depends on MOM6 output in IC_FILE and SHELF_IC_FILE\n",
    "def display_config():\n",
    "    \n",
    "    ic = xr.open_dataset(di + \"/\"+ IC_FILE)\n",
    "    ms = xr.open_dataset(di + \"/\" + SHELF_IC_FILE)\n",
    "    #ms = xr.open_dataset(di + \"/\" + ICE_SHELF_FILE)\n",
    "    #tp = xr.open_dataset(di + \"/\" + TOPO_FILE)\n",
    "\n",
    "    LY, LX = ic.h.data[0].shape[1], ic.h.data[0].shape[2]\n",
    "    YY= np.arange(0, LY, 1)\n",
    "    XX = np.arange(0, LX, 1)\n",
    "    XX, YY = np.meshgrid(XX, YY)\n",
    "\n",
    "    fig, axes = plt.subplots(nrows = 1, ncols=2, figsize = (10,4), subplot_kw={\"projection\": \"3d\"})\n",
    "\n",
    "    surf = axes[0].plot_surface(XX, YY, ms.h_shelf.data[0])\n",
    "    #surf = axes[0].plot_surface(XX, YY, ms.thick.data)\n",
    "    axes[0].set_title(\"Input ICE SHELF h\")\n",
    "\n",
    "    eta = ic.eta[0].data[0]\n",
    "    bathyT = eta - np.sum(ic.h[0].data, axis=0)\n",
    "\n",
    "    axes[1].plot_surface(XX, YY, eta)\n",
    "    axes[1].plot_surface(XX, YY, bathyT)\n",
    "    #topo2 = axes[1].plot_surface(XX, YY, -tp.depth.data)\n",
    "\n",
    "    axes[1].set_title(\"Initial TOPOGRAPHY and ICE SHELF\")\n",
    "\n",
    "    ms.close()\n",
    "    ic.close()"
   ]
  },
  {
   "cell_type": "code",
   "execution_count": 4,
   "id": "a713613b",
   "metadata": {
    "code_folding": [
     3
    ]
   },
   "outputs": [],
   "source": [
    "### New shelf: Take an ISOMIP cross-section, smooth it quadratically, and replicate non-uniformly into a dome\n",
    "### <font color='green'>h_shelf is continuous in all directions</font>\n",
    "\n",
    "### Bad ice draft\n",
    "\n",
    "def make_shelf(filename):\n",
    "    old_shelf = nc.Dataset(di + \"/INPUT/Ocean1_3D.nc\", \"r\")\n",
    "    #print(old_shelf)\n",
    "\n",
    "    b3 = old_shelf.variables[\"thick\"][6,:]\n",
    "    b5 = old_shelf.variables[\"area\"][6,:]\n",
    "\n",
    "    x=np.arange(240)\n",
    "    #bb3=0.9*np.maximum(0.02*(x-250)**2-150,0) # max vel ~ 1e-5 after 5 days with 0.3 on line 23\n",
    "    bb3=0.9*np.maximum(3e-7*(x-250)**4-17,0) # max vel ~ 1e-4 after 5 days with 0.8 on line 23\n",
    "\n",
    "    new_shelf = nc.Dataset(filename, \"w\", format=\"NETCDF4\")\n",
    "    new_shelf.createDimension(\"ny\", 40)\n",
    "    new_shelf.createDimension(\"nx\", 240)\n",
    "    new_shelf.createVariable(\"thick\",\"f8\",(\"ny\",\"nx\"))\n",
    "    new_shelf.createVariable(\"area\",\"f8\",(\"ny\",\"nx\"))\n",
    "\n",
    "    for ii in range(40):\n",
    "        new_shelf[\"area\"][ii,:] = b5\n",
    "        bb4 = bb3 +(19.5-ii)**2*0.8 # previously 0.3\n",
    "        iip = abs(20-ii)\n",
    "        for j in range(iip):\n",
    "            bb4[164-j] = bb4[164-iip]*j/iip\n",
    "        bb4[164:] = 0\n",
    "        new_shelf[\"thick\"][ii,:] = bb4\n",
    "\n",
    "    new_shelf[\"thick\"][:, 164:] = 0\n",
    "    new_shelf[\"area\"][:, 164:] = 0\n",
    "\n",
    "    new_shelf.close()"
   ]
  },
  {
   "cell_type": "code",
   "execution_count": 5,
   "id": "07562397",
   "metadata": {
    "code_folding": [
     3
    ]
   },
   "outputs": [],
   "source": [
    "### New shelf: Take an ISOMIP cross-section, smooth it quadratically, and replicate non-uniformly into a dome\n",
    "### <font color='green'>h_shelf is continuous in all directions</font>\n",
    "\n",
    "### Good ice draft\n",
    "\n",
    "def make_shelf_2(filename):\n",
    "    old_shelf = nc.Dataset(di + \"/INPUT/Ocean1_3D.nc\", \"r\")\n",
    "    #print(old_shelf)\n",
    "\n",
    "    b3 = old_shelf.variables[\"thick\"][6,:]\n",
    "    b5 = old_shelf.variables[\"area\"][6,:]\n",
    "\n",
    "    #fn = pol.Polynomial.fit([0,25,50,70,100,120,160],[1000,950,850,400,200,188,0],3)\n",
    "    #fn = pol.Polynomial.fit([0,25,50,70,100,120,160],[1000,990,850,400,200,188,0],3)\n",
    "    fn = pol.Polynomial.fit([0,25,50,70,100,120,160],[1210,980,900,800,200,188,0],3)\n",
    "    bb3 = 0.9*np.maximum(fn(np.arange(240)),0)\n",
    "    bb3[149:]=0\n",
    "\n",
    "    new_shelf = nc.Dataset(filename, \"w\", format=\"NETCDF4\")\n",
    "    new_shelf.createDimension(\"ny\", 40)\n",
    "    new_shelf.createDimension(\"nx\", 240)\n",
    "    new_shelf.createVariable(\"thick\",\"f8\",(\"ny\",\"nx\"))\n",
    "    new_shelf.createVariable(\"area\",\"f8\",(\"ny\",\"nx\"))\n",
    "\n",
    "    for ii in range(40):\n",
    "        new_shelf[\"area\"][ii,:] = b5\n",
    "        #bb4 = bb3 +(19.5-ii)**2*0.8 # previously 0.3\n",
    "        bb4 = (bb3 +(19.5-ii)**2*0.8)*(1-(20-ii)**2/1000) \n",
    "        iip = abs(20-ii)\n",
    "        for j in range(iip):\n",
    "            bb4[164-j] = bb4[164-iip]*j/iip\n",
    "        bb4[164:] = 0\n",
    "        new_shelf[\"thick\"][ii,:] = bb4\n",
    "\n",
    "    new_shelf[\"thick\"][:, 164:] = 0\n",
    "    new_shelf[\"area\"][:, 164:] = 0\n",
    "\n",
    "    new_shelf.close()"
   ]
  },
  {
   "cell_type": "code",
   "execution_count": 6,
   "id": "5c9f1181",
   "metadata": {},
   "outputs": [],
   "source": [
    "#make_shelf(di + ICE_SHELF_FILE)"
   ]
  },
  {
   "cell_type": "code",
   "execution_count": 7,
   "id": "ac0cfda5",
   "metadata": {},
   "outputs": [],
   "source": [
    "make_shelf_2(di + ICE_SHELF_FILE)"
   ]
  },
  {
   "cell_type": "code",
   "execution_count": 8,
   "id": "4dc96768",
   "metadata": {},
   "outputs": [],
   "source": [
    "# make_thickness_file(di + THICKNESS_FILE)"
   ]
  },
  {
   "cell_type": "code",
   "execution_count": null,
   "id": "aaf8bedb",
   "metadata": {},
   "outputs": [],
   "source": [
    "display_config()"
   ]
  },
  {
   "cell_type": "markdown",
   "id": "7741c0c3",
   "metadata": {},
   "source": [
    "### Plot output h,e,salt etc at chosen time"
   ]
  },
  {
   "cell_type": "code",
   "execution_count": null,
   "id": "1a8a4e5b",
   "metadata": {},
   "outputs": [],
   "source": [
    "prog = xr.open_dataset(di + '/'+PROG_FILE)\n",
    "run_time = prog.coords[\"Time\"].values[-1] - cftime.DatetimeJulian(1,1,1)\n",
    "     \n",
    "fig,axes = plt.subplots(nrows = 1, ncols = 2, figsize = (15,4))\n",
    "tt=-1; zz= 12; yy=39; xx=64; ll = [0,zz,zz+1,-1] # ll=[0,1,2,3,4,5,10,-3,-2,-1]\n",
    "for zzz in ll:\n",
    "    axes[0].plot(prog.e[tt][zzz].data[yy,:])\n",
    "    axes[1].plot(prog.e[tt][zzz].data[:,xx],'.')\n",
    "axes[0].vlines(xx, -720, 0, linestyles='dashed')\n",
    "axes[1].vlines(yy, -720, 0, linestyles='dashed')\n",
    "\n",
    "fig.suptitle(\"Run time = {}\".format(run_time))"
   ]
  },
  {
   "cell_type": "code",
   "execution_count": null,
   "id": "a9f7e9b6",
   "metadata": {},
   "outputs": [],
   "source": [
    "np.nanmin(prog.h[-1].data)"
   ]
  },
  {
   "cell_type": "code",
   "execution_count": null,
   "id": "d5197bf9",
   "metadata": {},
   "outputs": [],
   "source": [
    "### Can see that the initial salt is \"bad\" with THICKNESS_CONFIG=\"ISOMIP\" but \"fixed\" with THICKNESS_CONFIG=\"thickness_file\" hack\n",
    "ttt = -1; zzz = 0\n",
    "plt.plot(prog.salt.data[ttt][zzz][yy,:])"
   ]
  },
  {
   "cell_type": "code",
   "execution_count": null,
   "id": "18121766",
   "metadata": {},
   "outputs": [],
   "source": [
    "print(np.nanmax(prog.u.data[-1]), np.nanmin(prog.u.data[-1])) # 0.0012509557073082142 -0.0006301157530793094"
   ]
  },
  {
   "cell_type": "code",
   "execution_count": null,
   "id": "f63f503b",
   "metadata": {},
   "outputs": [],
   "source": [
    "print(np.nanmax(prog.v.data[-1]), np.nanmin(prog.v.data[-1])) # 0.0012509557073082142 -0.0006301157530793094"
   ]
  },
  {
   "cell_type": "code",
   "execution_count": null,
   "id": "9d1a695c",
   "metadata": {},
   "outputs": [],
   "source": [
    "arr = prog.u.data[-1]\n",
    "ind = np.unravel_index(np.nanargmin(arr),arr.shape)\n",
    "print(arr[ind])\n",
    "ind"
   ]
  },
  {
   "cell_type": "markdown",
   "id": "7b5b6aa1",
   "metadata": {},
   "source": [
    "np.nanmin(prog.e.data[0])"
   ]
  },
  {
   "cell_type": "code",
   "execution_count": null,
   "id": "337b5886",
   "metadata": {},
   "outputs": [],
   "source": [
    "mo = xr.open_dataset(di + '/mom.nc')\n",
    "fig,axes = plt.subplots(nrows = 5, ncols = 2, figsize = (12,7))\n",
    "\n",
    "tt=-1; zz=11; yy=15; xx=16\n",
    "showU = True\n",
    "if (showU):\n",
    "    u_or_v = \"u\"; PFu_or_v = \"PFu\"; prog_field = prog.u; mo_field = mo.PFu; \n",
    "    bt_PFu_or_v = \"hor. friction accel. u\"; mo_field2 = mo.diffu #mo.u_accel_bt #mo.du_dt_visc\n",
    "else:\n",
    "    u_or_v = \"v\"; PFu_or_v = \"PFv\"; prog_field = prog.v; mo_field = mo.PFv; \n",
    "    bt_PFu_or_v = \"hor. friction accel. v\"; mo_field2 = mo.diffv #mo.v_accel_bt #mo.dv_dt_visc\n",
    "    \n",
    "axes[0,0].plot(prog_field[0][zz].data[yy,:],'.')\n",
    "axes[0,0].set_xlabel(\"x\")\n",
    "axes[0,0].set_title(\"{} at first output time\".format(u_or_v)) # depends on diag_table setting\n",
    "axes[0,1].plot(prog_field[0][zz].data[:,xx],'.')\n",
    "axes[0,1].set_xlabel(\"y\")\n",
    "axes[0,1].set_title(\"{} at first output time\".format(u_or_v)) # depends on diag_table setting\n",
    "axes[1,0].plot(prog_field[tt][zz].data[yy,:],'.',)\n",
    "axes[1,0].set_xlabel(\"x\")\n",
    "axes[1,0].set_title(\"{} at output time t = {}\".format(u_or_v, tt))\n",
    "axes[1,1].plot(prog_field[tt][zz].data[:,xx],'.')\n",
    "axes[1,1].set_xlabel(\"y\")\n",
    "axes[1,1].set_title(\"{} at output time t = {}\".format(u_or_v,tt))\n",
    "axes[2,0].plot(mo_field[tt][zz].data[yy,:])\n",
    "axes[2,0].vlines(xx, 0, 0.2, linestyles='dashed', colors='C2')\n",
    "axes[2,0].set_xlabel(\"x\")\n",
    "axes[2,0].set_title(\"{} at output time t = {}\".format(PFu_or_v,tt))\n",
    "axes[2,1].plot(mo_field[tt][zz].data[:,xx])\n",
    "axes[2,1].set_xlabel(\"y\")\n",
    "axes[2,1].set_title(\"{} at output time t = {}\".format(PFu_or_v, tt))\n",
    "axes[3,0].plot(mo_field2[tt][zz].data[yy,:])\n",
    "#axes[3,0].vlines(xx, 0, 0.2, linestyles='dashed', colors='C2')\n",
    "axes[3,0].set_xlabel(\"x\")\n",
    "axes[3,0].set_title(\"{} at output time t = {}\".format(bt_PFu_or_v,tt))\n",
    "axes[3,1].plot(mo_field2[tt][zz].data[:,xx])\n",
    "axes[3,1].set_xlabel(\"y\")\n",
    "axes[3,1].set_title(\"{} at output time t = {}\".format(bt_PFu_or_v, tt))\n",
    "axes[4,0].plot(prog.h[tt][zz].data[yy,:],'.')\n",
    "axes[4,0].set_xlabel(\"x\")\n",
    "axes[4,0].set_title(\"h at output time t = {}\".format(tt))\n",
    "axes[4,1].plot(prog.h[tt][zz].data[:,xx],'.',)\n",
    "axes[4,1].set_xlabel(\"y\")\n",
    "axes[4,1].set_title(\"h at output time t = {}\".format(tt))\n",
    "\n",
    "plt.subplots_adjust(wspace = 0.25, hspace = 2.0)\n",
    "\n",
    "mo.close()"
   ]
  },
  {
   "cell_type": "code",
   "execution_count": null,
   "id": "582571b5",
   "metadata": {},
   "outputs": [],
   "source": [
    "fc = xr.open_dataset(di + '/forcing.nc')\n",
    "\n",
    "fig,axes = plt.subplots(nrows = 1, ncols = 2, figsize = (12,2))\n",
    "\n",
    "tt=-1; yy=22; xx=15\n",
    "\n",
    "#fc_field = fc.taux\n",
    "#fc_field = fc.tauy\n",
    "#fc_field = fc.ustar\n",
    "#fc_field = fc.PRCmE\n",
    "fc_field = fc.p_surf\n",
    "\n",
    "#axes[0,0].plot(aft.u.data[zzz,yy+NHALO,NHALO:-NHALO])\n",
    "axes[0].plot(fc_field[tt].data[yy,:],'.')\n",
    "axes[0].set_xlabel(\"x\")\n",
    "axes[0].set_title(\"forcing at time t = {}\".format(tt)) # depends on diag_table setting\n",
    "axes[1].plot(fc_field[tt].data[:,xx],'.')\n",
    "axes[1].set_xlabel(\"y\")\n",
    "axes[1].set_title(\"forcing at time t = {}\".format(tt)) # depends on diag_table setting"
   ]
  },
  {
   "cell_type": "code",
   "execution_count": null,
   "id": "519eb8cc",
   "metadata": {},
   "outputs": [],
   "source": [
    "mo = xr.open_dataset(di + '/mom.nc')\n",
    "fig,axes = plt.subplots(nrows =13, ncols = 2, figsize = (12,15))\n",
    "\n",
    "tt=-1; zz=11; yy=15; xx=16\n",
    "showU = True\n",
    "if (showU):\n",
    "    u_or_v = \"u\"; prog_field = prog.u;\n",
    "    mo_field1_desc = \"du/dt\"; mo_field1 = mo.dudt\n",
    "    mo_field2_desc = \"PFu\"; mo_field2 = mo.PFu  \n",
    "    mo_field3_desc = \"CAu\"; mo_field3 = mo.CAu   \n",
    "    mo_field4_desc = \"u_accel_bt\"; mo_field4 = mo.u_accel_bt  \n",
    "    mo_field5_desc = \"diffu\"; mo_field5 = mo.diffu\n",
    "    mo_field6_desc = \"du/dt_visc\"; mo_field6 = mo.du_dt_visc\n",
    "else:\n",
    "    u_or_v = \"v\"; prog_field = prog.v;\n",
    "    mo_field1_desc = \"dv/dt\"; mo_field1 = mo.dvdt\n",
    "    mo_field2_desc = \"PFv\"; mo_field2 = mo.PFv  \n",
    "    mo_field3_desc = \"CAv\"; mo_field3 = mo.CAv   \n",
    "    mo_field4_desc = \"v_accel_bt\"; mo_field4 = mo.v_accel_bt \n",
    "    mo_field5_desc = \"diffv\"; mo_field5 = mo.diffv\n",
    "    mo_field6_desc = \"dv/dt_visc\"; mo_field6 = mo.dv_dt_visc\n",
    "    \n",
    "axes[0,0].plot(prog_field[0][zz].data[yy,:],'.')\n",
    "axes[0,0].set_xlabel(\"x\")\n",
    "axes[0,0].set_title(\"{} at first output time\".format(u_or_v)) # depends on diag_table setting\n",
    "axes[0,1].plot(prog_field[0][zz].data[:,xx],'.')\n",
    "axes[0,1].set_xlabel(\"y\")\n",
    "axes[0,1].set_title(\"{} at first output time\".format(u_or_v)) # depends on diag_table setting\n",
    "axes[1,0].plot(prog_field[tt][zz].data[yy,:],'.',)\n",
    "axes[1,0].set_xlabel(\"x\")\n",
    "axes[1,0].set_title(\"{} at output time t = {}\".format(u_or_v, tt))\n",
    "axes[1,1].plot(prog_field[tt][zz].data[:,xx],'.')\n",
    "axes[1,1].set_xlabel(\"y\")\n",
    "axes[1,1].set_title(\"{} at output time t = {}\".format(u_or_v,tt))\n",
    "axes[2,0].plot(mo_field1[tt][zz].data[yy,:])\n",
    "axes[2,0].vlines(xx, -2e-10, 0, linestyles='dashed', colors='C2')\n",
    "axes[2,0].set_xlabel(\"x\")\n",
    "axes[2,0].set_title(\"{} at output time t = {}\".format(mo_field1_desc,tt))\n",
    "axes[2,1].plot(mo_field1[tt][zz].data[:,xx])\n",
    "axes[2,1].set_xlabel(\"y\")\n",
    "axes[2,1].set_title(\"{} at output time t = {}\".format(mo_field1_desc, tt))\n",
    "axes[3,0].plot(mo_field2[tt][zz].data[yy,:])\n",
    "#axes[3,0].vlines(xx, 0, 0.2, linestyles='dashed', colors='C2')\n",
    "axes[3,0].set_xlabel(\"x\")\n",
    "axes[3,0].set_title(\"{} at output time t = {}\".format(mo_field2_desc,tt))\n",
    "axes[3,1].plot(mo_field2[tt][zz].data[:,xx])\n",
    "axes[3,1].set_xlabel(\"y\")\n",
    "axes[3,1].set_title(\"{} at output time t = {}\".format(mo_field2_desc, tt))\n",
    "axes[4,0].plot(mo_field3[tt][zz].data[yy,:])\n",
    "#axes[4,0].vlines(xx, 0, 0.2, linestyles='dashed', colors='C2')\n",
    "axes[4,0].set_xlabel(\"x\")\n",
    "axes[4,0].set_title(\"{} at output time t = {}\".format(mo_field3_desc,tt))\n",
    "axes[4,1].plot(mo_field3[tt][zz].data[:,xx])\n",
    "axes[4,1].set_xlabel(\"y\")\n",
    "axes[4,1].set_title(\"{} at output time t = {}\".format(mo_field3_desc, tt))\n",
    "axes[5,0].plot(mo_field4[tt].data[yy,:])\n",
    "#axes[5,0].vlines(xx, 0, 0.2, linestyles='dashed', colors='C2')\n",
    "axes[5,0].set_xlabel(\"x\")\n",
    "axes[5,0].set_title(\"{} at output time t = {}\".format(mo_field4_desc,tt))\n",
    "axes[5,1].plot(mo_field4[tt].data[:,xx])\n",
    "axes[5,1].set_xlabel(\"y\")\n",
    "axes[5,1].set_title(\"{} at output time t = {}\".format(mo_field4_desc, tt))\n",
    "axes[6,0].plot(mo_field5[tt][zz].data[yy,:])\n",
    "#axes[6,0].vlines(xx, 0, 0.2, linestyles='dashed', colors='C2')\n",
    "axes[6,0].set_xlabel(\"x\")\n",
    "axes[6,0].set_title(\"{} at output time t = {}\".format(mo_field5_desc,tt))\n",
    "axes[6,1].plot(mo_field5[tt][zz].data[:,xx])\n",
    "axes[6,1].set_xlabel(\"y\")\n",
    "axes[6,1].set_title(\"{} at output time t = {}\".format(mo_field5_desc, tt))\n",
    "axes[7,0].plot(mo_field6[tt][zz].data[yy,:])\n",
    "#axes[7,0].vlines(xx, 0, 0.2, linestyles='dashed', colors='C2')\n",
    "axes[7,0].set_xlabel(\"x\")\n",
    "axes[7,0].set_title(\"{} at output time t = {}\".format(mo_field6_desc,tt))\n",
    "axes[7,1].plot(mo_field6[tt][zz].data[:,xx])\n",
    "axes[7,1].set_xlabel(\"y\")\n",
    "axes[7,1].set_title(\"{} at output time t = {}\".format(mo_field6_desc, tt))\n",
    "axes[8,0].plot(mo_field2[tt][zz].data[yy,:]+mo_field6[tt][zz].data[yy,:])\n",
    "#axes[8,0].vlines(xx, 0, 0.2, linestyles='dashed', colors='C2')\n",
    "axes[8,0].set_xlabel(\"x\")\n",
    "axes[8,0].set_title(\"{} at t = {}\".format(\"PF+d/dt_visc\",tt))\n",
    "axes[8,1].plot(mo_field2[tt][zz].data[:,xx]+mo_field6[tt][zz].data[:,xx])\n",
    "axes[8,1].set_xlabel(\"y\")\n",
    "axes[8,1].set_title(\"{} at t = {}\".format(\"PF+d/dt_visc\", tt))\n",
    "axes[9,0].plot(mo_field2[tt][zz].data[yy,:]+mo_field6[tt][zz].data[yy,:]\n",
    "              +mo_field5[tt][zz].data[yy,:])\n",
    "#axes[9,0].vlines(xx, 0, 0.2, linestyles='dashed', colors='C2')\n",
    "axes[9,0].set_xlabel(\"x\")\n",
    "axes[9,0].set_title(\"{} at t = {}\".format(\"PF+d/dt_visc+diff\",tt))\n",
    "axes[9,1].plot(mo_field2[tt][zz].data[:,xx]+mo_field6[tt][zz].data[:,xx]\n",
    "              +mo_field5[tt][zz].data[:,xx])\n",
    "axes[9,1].set_xlabel(\"y\")\n",
    "axes[9,1].set_title(\"{} at t = {}\".format(\"PF+d/dt_visc+diff\", tt))\n",
    "axes[10,0].plot(mo_field2[tt][zz].data[yy,:]+mo_field6[tt][zz].data[yy,:]\n",
    "              +mo_field5[tt][zz].data[yy,:]+mo_field4[tt].data[yy,:])\n",
    "#axes[10,0].vlines(xx, 0, 0.2, linestyles='dashed', colors='C2')\n",
    "axes[10,0].set_xlabel(\"x\")\n",
    "axes[10,0].set_title(\"{} at t = {}\".format(\"PF+d/dt_visc+diff+accel_bt\",tt))\n",
    "axes[10,1].plot(mo_field2[tt][zz].data[:,xx]+mo_field6[tt][zz].data[:,xx]\n",
    "              +mo_field5[tt][zz].data[:,xx]+mo_field4[tt].data[:,xx])\n",
    "axes[10,1].set_xlabel(\"y\")\n",
    "axes[10,1].set_title(\"{} at t = {}\".format(\"PF+d/dt_visc+diff+accel_bt\", tt))\n",
    "axes[11,0].plot(mo_field2[tt][zz].data[yy,:]+mo_field6[tt][zz].data[yy,:]\n",
    "              +mo_field5[tt][zz].data[yy,:]+mo_field4[tt].data[yy,:]\n",
    "               +mo_field3[tt][zz].data[yy,:])\n",
    "axes[11,0].vlines(xx, -3.0e-10, 0, linestyles='dashed', colors='C2')\n",
    "axes[11,0].set_xlabel(\"x\")\n",
    "axes[11,0].set_title(\"{} at t = {}\".format(\"PF+d/dt_visc+diff+accel_bt+CA\",tt))\n",
    "axes[11,1].plot(mo_field2[tt][zz].data[:,xx]+mo_field6[tt][zz].data[:,xx]\n",
    "              +mo_field5[tt][zz].data[:,xx]+mo_field4[tt].data[:,xx]\n",
    "               +mo_field3[tt][zz].data[:,xx])\n",
    "axes[11,1].set_xlabel(\"y\")\n",
    "axes[11,1].set_title(\"{} at t = {}\".format(\"PF+d/dt_visc+diff+accel_bt+CA\", tt))\n",
    "axes[12,0].plot(prog.h[tt][zz].data[yy,:],'.')\n",
    "axes[12,0].set_xlabel(\"x\")\n",
    "axes[12,0].set_title(\"h at t = {}\".format(tt))\n",
    "axes[12,1].plot(prog.h[tt][zz].data[:,xx],'.',)\n",
    "axes[12,1].set_xlabel(\"y\")\n",
    "axes[12,1].set_title(\"h at output time t = {}\".format(tt))\n",
    "\n",
    "plt.subplots_adjust(wspace = 0.2, hspace = 2.2)\n",
    "\n",
    "mo.close()"
   ]
  },
  {
   "cell_type": "markdown",
   "id": "c30d2d52",
   "metadata": {},
   "source": [
    "### Make an \"adjusted salt\" file"
   ]
  },
  {
   "cell_type": "markdown",
   "id": "6973e972",
   "metadata": {
    "code_folding": [
     3,
     6
    ]
   },
   "source": [
    "x=np.arange(240)\n",
    "bb3=0.9*np.maximum(3e-7*(x-250)**4-17,0)\n",
    "\n",
    "for ii in range(40):\n",
    "    bb4 = bb3 +(19.5-ii)**2*0.8\n",
    "    iip = abs(20-ii)\n",
    "    for j in range(iip):\n",
    "        bb4[164-j] = bb4[164-iip]*j/iip\n",
    "        bb4[164:] = 0\n",
    "    plt.plot(bb4)    "
   ]
  },
  {
   "cell_type": "markdown",
   "id": "c7e99498",
   "metadata": {},
   "source": [
    "#! Open files saved by MOM6 needed to adjust the salt \n",
    "bt=xr.open_dataset(di + \"/deb_bathyT.nc\") # topography file needed to calculate e\n",
    "h=xr.open_dataset(di + '/after_ts_2_h.nc') # h file before the first time step, but after MOM6 remap\n",
    "S=xr.open_dataset(di + '/before_finish_MOM_initialization_S.nc') # salt file produced by MOM6, which we want to adjust \n",
    "\n",
    "#! calculate e and then s as a linear function of e \n",
    "S_TOP = 33.8\n",
    "S_BOTTOM = 34.55\n",
    "MAXIMUM_DEPTH = 720.0\n",
    "e=h.h.sum(axis=0).data-bt.bathyT.data\n",
    "s=(e-h.h.data.cumsum(axis=0) + h.h.data/2)*(S_BOTTOM-S_TOP)/(-MAXIMUM_DEPTH) + S_TOP\n",
    "\n",
    "#! fix the halo points\n",
    "s[:,:NHALO,:NHALO]=0\n",
    "s[:,:NHALO,-NHALO:]=0\n",
    "s[:,-NHALO:,:NHALO]=0\n",
    "s[:,-NHALO:,-NHALO:]=0\n",
    "\n",
    "#! create new netcdf4 file for the adjusted salt based on the original salt file\n",
    "nz, ny, nx = S.S.data.shape\n",
    "new_salt = nc.Dataset(di + \"/INPUT/adjustedS.nc\", \"w\", format=\"NETCDF4\")\n",
    "new_salt.createDimension(\"nz\", nz)\n",
    "new_salt.createDimension(\"ny\", ny)\n",
    "new_salt.createDimension(\"nx\", nx)\n",
    "temp = new_salt.createVariable(\"S\",\"f8\",(\"nz\",\"ny\",\"nx\"))\n",
    "temp[:,:,:]=s\n",
    "new_salt.close()"
   ]
  },
  {
   "cell_type": "code",
   "execution_count": null,
   "id": "761dc85b",
   "metadata": {},
   "outputs": [],
   "source": [
    "! cat MOM_override | tail"
   ]
  },
  {
   "cell_type": "code",
   "execution_count": null,
   "id": "1f1a1b97",
   "metadata": {},
   "outputs": [],
   "source": [
    "prog.h[-1]"
   ]
  },
  {
   "cell_type": "code",
   "execution_count": null,
   "id": "89562f22",
   "metadata": {},
   "outputs": [],
   "source": [
    "fc = xr.open_dataset(di + '/forcing.nc')"
   ]
  },
  {
   "cell_type": "code",
   "execution_count": null,
   "id": "8a40b7cc",
   "metadata": {},
   "outputs": [],
   "source": [
    "fc"
   ]
  },
  {
   "cell_type": "code",
   "execution_count": null,
   "id": "3827ece5",
   "metadata": {},
   "outputs": [],
   "source": [
    " p_surf_fix2=fc.p_surf[0,:,:]"
   ]
  },
  {
   "cell_type": "code",
   "execution_count": null,
   "id": "f02a70b9",
   "metadata": {},
   "outputs": [],
   "source": [
    "np.unique(fc.p_surf[0,:,:]-p_surf_fix2)"
   ]
  },
  {
   "cell_type": "code",
   "execution_count": null,
   "id": "44699900",
   "metadata": {},
   "outputs": [],
   "source": [
    "ic=xr.open_dataset(di+\"/\"+IC_FILE)"
   ]
  },
  {
   "cell_type": "code",
   "execution_count": null,
   "id": "f87901af",
   "metadata": {},
   "outputs": [],
   "source": [
    "h_fix2=ic.h[0] # different"
   ]
  },
  {
   "cell_type": "code",
   "execution_count": null,
   "id": "fef82e5b",
   "metadata": {},
   "outputs": [],
   "source": [
    "eta_fix2=ic.eta[0] # same"
   ]
  },
  {
   "cell_type": "code",
   "execution_count": null,
   "id": "1f6167a8",
   "metadata": {},
   "outputs": [],
   "source": [
    "salt_fix2=ic.Salt[0] # different"
   ]
  },
  {
   "cell_type": "code",
   "execution_count": null,
   "id": "3307f592",
   "metadata": {},
   "outputs": [],
   "source": [
    "sfc_fix2=ic.sfc[0] # different"
   ]
  },
  {
   "cell_type": "code",
   "execution_count": null,
   "id": "5d8787e6",
   "metadata": {},
   "outputs": [],
   "source": [
    "plt.imshow(eta_fix2.data[0,:,:]-sfc_fix2.data[:,:])\n",
    "plt.colorbar(shrink=0.5)"
   ]
  },
  {
   "cell_type": "code",
   "execution_count": null,
   "id": "37e7d671",
   "metadata": {},
   "outputs": [],
   "source": [
    "plt.imshow((np.sum(h_fix2.data, axis=0)-eta_fix2[0].data-720))\n",
    "plt.colorbar(shrink=0.5)"
   ]
  },
  {
   "cell_type": "code",
   "execution_count": null,
   "id": "747c1c2d",
   "metadata": {},
   "outputs": [],
   "source": [
    "plt.imshow((np.sum(h_fix2.data, axis=0)-sfc_fix2.data-720))\n",
    "plt.colorbar(shrink=0.5)"
   ]
  },
  {
   "cell_type": "code",
   "execution_count": null,
   "id": "9d1e9bd1",
   "metadata": {},
   "outputs": [],
   "source": [
    "np.unique(ic.v2.data)"
   ]
  },
  {
   "cell_type": "code",
   "execution_count": null,
   "id": "64d71ab8",
   "metadata": {},
   "outputs": [],
   "source": [
    "## check initial salt is linear\n",
    "\n",
    "ic=xr.open_dataset(di + \"/\" +IC_FILE)\n",
    "\n",
    "# COLD profile\n",
    "S_TOP = 33.8\n",
    "S_BOTTOM = 34.55\n",
    "#WARM profile\n",
    "#S_TOP = 33.8\n",
    "#S_BOTTOM = 34.7\n",
    "MAXIMUM_DEPTH = 720.0\n",
    "\n",
    "eta = ic.eta[0].data[0]\n",
    "s=(eta - ic.h[0].data.cumsum(axis=0) + ic.h[0].data/2)*(S_BOTTOM-S_TOP)/(-MAXIMUM_DEPTH) + S_TOP\n",
    "\n",
    "np.unique(ic.Salt[0].data-s)"
   ]
  },
  {
   "cell_type": "code",
   "execution_count": null,
   "id": "55f1e05c",
   "metadata": {},
   "outputs": [],
   "source": [
    "sfc=xr.open_dataset(di+\"/sfc.nc\") #Line 1408 MOM_dynamics_split_RK2.F90"
   ]
  },
  {
   "cell_type": "code",
   "execution_count": null,
   "id": "cfcafbcd",
   "metadata": {},
   "outputs": [],
   "source": [
    "eta=xr.open_dataset(di+\"/eta.nc\") #line 3205 MOM.F90"
   ]
  },
  {
   "cell_type": "code",
   "execution_count": null,
   "id": "245c9e35",
   "metadata": {},
   "outputs": [],
   "source": [
    "h=xr.open_dataset(di+\"/h.nc\") #Line 3218 MOM.F90"
   ]
  },
  {
   "cell_type": "code",
   "execution_count": null,
   "id": "428cc152",
   "metadata": {},
   "outputs": [],
   "source": [
    "h_split_init=xr.open_dataset(di+\"/h_split_init.nc\") "
   ]
  },
  {
   "cell_type": "code",
   "execution_count": null,
   "id": "9f4ff56d",
   "metadata": {},
   "outputs": [],
   "source": [
    "h_to_eta=xr.open_dataset(di+\"/h_to_eta.nc\") "
   ]
  },
  {
   "cell_type": "code",
   "execution_count": null,
   "id": "5f48bae6",
   "metadata": {},
   "outputs": [],
   "source": [
    "bathy_split_init=xr.open_dataset(di+\"/bathy_split_init.nc\") "
   ]
  },
  {
   "cell_type": "code",
   "execution_count": null,
   "id": "511edd25",
   "metadata": {},
   "outputs": [],
   "source": [
    "np.unique(h_split_init.h.data-h_to_eta.h.data)"
   ]
  },
  {
   "cell_type": "code",
   "execution_count": null,
   "id": "160f6270",
   "metadata": {},
   "outputs": [],
   "source": [
    "np.unique(h_split_init.h.data-h.h.data)"
   ]
  },
  {
   "cell_type": "code",
   "execution_count": null,
   "id": "db99f1e5",
   "metadata": {},
   "outputs": [],
   "source": [
    "np.unique(h.h.data[:,4:-4,4:-4]-h_fix2.data)"
   ]
  },
  {
   "cell_type": "code",
   "execution_count": null,
   "id": "15ccede6",
   "metadata": {},
   "outputs": [],
   "source": [
    "np.unique(sfc.sfc.data[4:-4,4:-4]-sfc_fix2.data)"
   ]
  },
  {
   "cell_type": "code",
   "execution_count": null,
   "id": "2db237e7",
   "metadata": {},
   "outputs": [],
   "source": [
    "np.unique(eta.eta.data[:,4:-4,4:-4]-eta_fix2.data)"
   ]
  },
  {
   "cell_type": "code",
   "execution_count": null,
   "id": "db2c9ac4",
   "metadata": {},
   "outputs": [],
   "source": [
    "np.unique(bathy_split_init.bathy.data[4:-4,4:-4])"
   ]
  },
  {
   "cell_type": "code",
   "execution_count": null,
   "id": "44dcb2e3",
   "metadata": {},
   "outputs": [],
   "source": [
    "print(h_split_init.h.data[:,4+20,-5])"
   ]
  },
  {
   "cell_type": "code",
   "execution_count": null,
   "id": "a6a0d4cc",
   "metadata": {},
   "outputs": [],
   "source": [
    "h_split_init.h.data[-2,4+20,-5]"
   ]
  },
  {
   "cell_type": "code",
   "execution_count": null,
   "id": "3bf235d2",
   "metadata": {},
   "outputs": [],
   "source": [
    "h = ic.h[0].data\n",
    "e = np.zeros((26,40,240))\n",
    "e[:,:,:]=-720.0\n",
    "for i in range(240):\n",
    "    for k in range(24,-1,-1):\n",
    "        for j in range(40):\n",
    "            e[k,j,i] = e[k+1,j,i]+h[k,j,i]"
   ]
  },
  {
   "cell_type": "code",
   "execution_count": null,
   "id": "83e7f21d",
   "metadata": {},
   "outputs": [],
   "source": [
    "np.unique(e[-1,:,:]-ic.eta[0].data[-1,:,:])"
   ]
  },
  {
   "cell_type": "code",
   "execution_count": null,
   "id": "e4d39a96",
   "metadata": {},
   "outputs": [],
   "source": [
    "plt.imshow((np.sum(h, axis=0)-e[0,:,:]-720))\n",
    "plt.colorbar(shrink=0.5)"
   ]
  },
  {
   "cell_type": "code",
   "execution_count": null,
   "id": "3c085a66",
   "metadata": {},
   "outputs": [],
   "source": [
    "et=ic.eta[0].data[0]\n",
    "slice = (et[:,:]+720)/25\n",
    "plt.plot(slice[0,:])"
   ]
  },
  {
   "cell_type": "code",
   "execution_count": null,
   "id": "ed1af563",
   "metadata": {},
   "outputs": [],
   "source": [
    "slice[np.where(slice<1e-5)] = 1e-6"
   ]
  },
  {
   "cell_type": "code",
   "execution_count": null,
   "id": "0654177d",
   "metadata": {},
   "outputs": [],
   "source": [
    "h_new = np.zeros((25,40,240))"
   ]
  },
  {
   "cell_type": "code",
   "execution_count": null,
   "id": "fe155916",
   "metadata": {},
   "outputs": [],
   "source": [
    "for k in range(25):\n",
    "    h_new[k,:,:] = slice"
   ]
  },
  {
   "cell_type": "code",
   "execution_count": null,
   "id": "120e7741",
   "metadata": {},
   "outputs": [],
   "source": [
    "plt.imshow(np.sum(h_new, axis=0)-et-720)\n",
    "plt.colorbar(shrink=0.5)"
   ]
  },
  {
   "cell_type": "code",
   "execution_count": null,
   "id": "7c6caeb2",
   "metadata": {
    "code_folding": []
   },
   "outputs": [],
   "source": [
    "### new thickness file for THICKNESS_CONFIG=\"thickness_file\"\n",
    "### (depends on MOM6 output in IC_FILE, ie. use after a run)\n",
    "def make_thickness_file_2(filename):\n",
    "    \n",
    "    ic = xr.open_dataset(di + '/' + IC_FILE)\n",
    "    _, nz, ny, nx = ic.h.data.shape\n",
    "\n",
    "    new_thick = nc.Dataset(filename, \"w\", format=\"NETCDF4\")\n",
    "    new_thick.createDimension(\"nz\", nz)\n",
    "    new_thick.createDimension(\"ny\", ny)\n",
    "    new_thick.createDimension(\"nx\", nx)\n",
    "    new_thick.createVariable(\"h\",\"f8\",(\"nz\",\"ny\",\"nx\"))\n",
    "\n",
    "    et=ic.eta[0].data[0]\n",
    "    slice = (et[:,:]+720)/25\n",
    "    slice[np.where(slice<1e-5)] = 1e-6\n",
    "    h_new = np.zeros((25,40,240))\n",
    "    for k in range(25):\n",
    "        h_new[k,:,:] = slice\n",
    "\n",
    "    new_thick[\"h\"][:,:,:] = h_new\n",
    "    new_thick.close()"
   ]
  },
  {
   "cell_type": "code",
   "execution_count": null,
   "id": "0fa12c58",
   "metadata": {},
   "outputs": [],
   "source": [
    "make_thickness_file_2(di + THICKNESS_FILE)"
   ]
  },
  {
   "cell_type": "code",
   "execution_count": null,
   "id": "a654fef6",
   "metadata": {},
   "outputs": [],
   "source": [
    "ic2=xr.open_dataset(di + \"/\" + IC_FILE)"
   ]
  },
  {
   "cell_type": "code",
   "execution_count": null,
   "id": "98c02e5a",
   "metadata": {},
   "outputs": [],
   "source": [
    "plt.plot(ic2.h[0].data[0,0,:])"
   ]
  },
  {
   "cell_type": "code",
   "execution_count": null,
   "id": "e58f5027",
   "metadata": {},
   "outputs": [],
   "source": [
    "x=np.arange(240)\n",
    "#bb3=0.9*np.maximum(0.02*(x-250)**2-150,0) # max vel ~ 1e-5 after 5 days with 0.3 on line 23\n",
    "bb3=0.9*np.maximum(3e-7*(x-250)**4-17,0)"
   ]
  },
  {
   "cell_type": "code",
   "execution_count": null,
   "id": "706e3ea3",
   "metadata": {},
   "outputs": [],
   "source": [
    "plt.plot(x,bb3)"
   ]
  },
  {
   "cell_type": "code",
   "execution_count": null,
   "id": "ccca0854",
   "metadata": {},
   "outputs": [],
   "source": []
  },
  {
   "cell_type": "code",
   "execution_count": null,
   "id": "cea70cc7",
   "metadata": {},
   "outputs": [],
   "source": [
    "fn = pol.Polynomial.fit([0,25,50,70,100,120,160],[1210,980,900,800,200,188,0],3)"
   ]
  },
  {
   "cell_type": "code",
   "execution_count": null,
   "id": "587d6d1e",
   "metadata": {},
   "outputs": [],
   "source": [
    "bb3 = np.maximum(fn(np.arange(240)),0)\n",
    "bb3[150:]=0\n",
    "plt.plot(bb3)\n",
    "plt.ylim([0,1200])"
   ]
  },
  {
   "cell_type": "code",
   "execution_count": null,
   "id": "52b02f96",
   "metadata": {},
   "outputs": [],
   "source": [
    "for ii in range(40):\n",
    "#for ii in range(3):\n",
    "        bb4 = (bb3 +(19.5-ii)**2*0.8)*(1-(20-ii)**2/1000) # previously 0.3\n",
    "        iip = abs(20-ii)\n",
    "        for j in range(iip):\n",
    "            bb4[150-j] = bb4[150-iip]*j/iip\n",
    "        bb4[150:] = 0\n",
    "        plt.plot(bb4)\n",
    "        #new_shelf[\"thick\"][ii,:] = bb4"
   ]
  },
  {
   "cell_type": "code",
   "execution_count": null,
   "id": "83a9cde1",
   "metadata": {},
   "outputs": [],
   "source": [
    "x=np.arange(240)\n",
    "bb3=0.9*np.maximum(3e-7*(x-250)**4-17,0) # max vel ~ 1e-4 after 5 days with 0.8 on line 23\n",
    "\n",
    "\n",
    "for ii in range(40):\n",
    "    bb4 = bb3 +(19.5-ii)**2*0.8 # previously 0.3\n",
    "    iip = abs(20-ii)\n",
    "    for j in range(iip):\n",
    "        bb4[164-j] = bb4[164-iip]*j/iip\n",
    "    bb4[164:] = 0\n",
    "    plt.plot(bb4)"
   ]
  },
  {
   "cell_type": "code",
   "execution_count": null,
   "id": "b584e4cc",
   "metadata": {},
   "outputs": [],
   "source": []
  },
  {
   "cell_type": "code",
   "execution_count": null,
   "id": "c0036ccb",
   "metadata": {},
   "outputs": [],
   "source": []
  }
 ],
 "metadata": {
  "kernelspec": {
   "display_name": "Python [conda env:xr]",
   "language": "python",
   "name": "conda-env-xr-py"
  },
  "language_info": {
   "codemirror_mode": {
    "name": "ipython",
    "version": 3
   },
   "file_extension": ".py",
   "mimetype": "text/x-python",
   "name": "python",
   "nbconvert_exporter": "python",
   "pygments_lexer": "ipython3",
   "version": "3.11.4"
  },
  "varInspector": {
   "cols": {
    "lenName": 16,
    "lenType": 16,
    "lenVar": 40
   },
   "kernels_config": {
    "python": {
     "delete_cmd_postfix": "",
     "delete_cmd_prefix": "del ",
     "library": "var_list.py",
     "varRefreshCmd": "print(var_dic_list())"
    },
    "r": {
     "delete_cmd_postfix": ") ",
     "delete_cmd_prefix": "rm(",
     "library": "var_list.r",
     "varRefreshCmd": "cat(var_dic_list()) "
    }
   },
   "types_to_exclude": [
    "module",
    "function",
    "builtin_function_or_method",
    "instance",
    "_Feature"
   ],
   "window_display": false
  }
 },
 "nbformat": 4,
 "nbformat_minor": 5
}
